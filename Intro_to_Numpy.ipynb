{
  "nbformat": 4,
  "nbformat_minor": 0,
  "metadata": {
    "colab": {
      "name": "Intro to Numpy.ipynb",
      "provenance": [],
      "authorship_tag": "ABX9TyMX6Ys8b3wleTddTwgii3vj",
      "include_colab_link": true
    },
    "kernelspec": {
      "name": "python3",
      "display_name": "Python 3"
    },
    "language_info": {
      "name": "python"
    }
  },
  "cells": [
    {
      "cell_type": "markdown",
      "metadata": {
        "id": "view-in-github",
        "colab_type": "text"
      },
      "source": [
        "<a href=\"https://colab.research.google.com/github/tancy1979/ctcuc22-alevel-collab/blob/main/Intro_to_Numpy.ipynb\" target=\"_parent\"><img src=\"https://colab.research.google.com/assets/colab-badge.svg\" alt=\"Open In Colab\"/></a>"
      ]
    },
    {
      "cell_type": "markdown",
      "source": [
        "# What is NumPy?\n",
        "\n",
        "NumPy is a Python library used for working with arrays.\n",
        "\n",
        "It also has functions for working in domain of linear algebra, fourier transform, and matrices.\n",
        "\n",
        "NumPy was created in 2005 by Travis Oliphant. It is an open source project and you can use it freely.\n",
        "\n",
        "NumPy stands for Numerical Python.\n",
        "\n",
        "In Python we have lists that serve the purpose of arrays, but they are slow to process.\n",
        "\n",
        "NumPy aims to provide an array object that is up to 50x faster than traditional Python lists.\n",
        "\n",
        "The array object in NumPy is called `ndarray`, it provides a lot of supporting functions that make working with `ndarray` very easy.\n",
        "\n",
        "Arrays are very frequently used in data science, where speed and resources are very important."
      ],
      "metadata": {
        "id": "giRR-cKDqgmg"
      }
    },
    {
      "cell_type": "markdown",
      "source": [
        "#NumPy as np\n",
        "\n",
        "NumPy is usually imported under the np alias.\n",
        "\n",
        "We can create a `ndarray` object using the `array()` function. We pass into the 'array()' function a list of numbers."
      ],
      "metadata": {
        "id": "gqHnDAuGrPJ6"
      }
    },
    {
      "cell_type": "code",
      "execution_count": 4,
      "metadata": {
        "colab": {
          "base_uri": "https://localhost:8080/"
        },
        "id": "Zw1tPvmUom1v",
        "outputId": "a2de1249-3d45-412d-d176-4b1ca648d82a"
      },
      "outputs": [
        {
          "output_type": "stream",
          "name": "stdout",
          "text": [
            "[1 2 3 4 5]\n",
            "<class 'numpy.ndarray'>\n"
          ]
        }
      ],
      "source": [
        "import numpy as np\n",
        "\n",
        "# create a ndarray object with entries 1, 2, 3, 4, 5\n",
        "arr = np.array([1, 2, 3, 4, 5])\n",
        "\n",
        "print(arr)\n",
        "\n",
        "print(type(arr))"
      ]
    },
    {
      "cell_type": "markdown",
      "source": [
        "#Exercise 1:\n",
        "\n",
        "Create a `ndarray` object that contains even numbers from 0 (inclusive) to 9.\n",
        "\n",
        "Print the `ndarray` object and its type. "
      ],
      "metadata": {
        "id": "6A1EYhlar50I"
      }
    },
    {
      "cell_type": "code",
      "source": [
        "# type code for Exercise 1 here."
      ],
      "metadata": {
        "id": "-oPHG1Qvr5ah"
      },
      "execution_count": null,
      "outputs": []
    },
    {
      "cell_type": "markdown",
      "source": [
        "# Dimensions of Arrays\n",
        "\n",
        "A dimension in arrays is one level of array depth.\n",
        "\n",
        "We can use the `ndim` attribute to see the dimension of an array.\n",
        "\n",
        "0-D arrays are the elements in an array. An array that has 0-D arrays is 1-D.\n",
        "\n",
        "An array that has 1-D arrays as its elements is 2-D."
      ],
      "metadata": {
        "id": "9Y0fd6wOsMqo"
      }
    },
    {
      "cell_type": "code",
      "source": [
        "import numpy as np\n",
        "\n",
        "a = np.array(42)\n",
        "b = np.array([1, 2, 3, 4, 5])\n",
        "c = np.array([[1, 2, 3], [4, 5, 6]])\n",
        "d = np.array([[[1, 2, 3], [4, 5, 6]], [[1, 2, 3], [4, 5, 6]]])\n",
        "\n",
        "print(a.ndim)\n",
        "print(b.ndim)\n",
        "print(c.ndim)\n",
        "print(d.ndim)"
      ],
      "metadata": {
        "colab": {
          "base_uri": "https://localhost:8080/"
        },
        "id": "8SfKw9p5qfgS",
        "outputId": "3be68a6f-9625-4046-ebab-d2c4beae2de2"
      },
      "execution_count": 5,
      "outputs": [
        {
          "output_type": "stream",
          "name": "stdout",
          "text": [
            "0\n",
            "1\n",
            "2\n",
            "3\n"
          ]
        }
      ]
    },
    {
      "cell_type": "markdown",
      "source": [
        "#Higher Dimensional Arrays\n",
        "An array can have any number of dimensions.\n",
        "\n",
        "When the array is created, you can define the number of dimensions by using the `ndmin` argument."
      ],
      "metadata": {
        "id": "VK4eVB5huZ-I"
      }
    },
    {
      "cell_type": "code",
      "source": [
        "# create an array with 5 dimensions\n",
        "import numpy as np\n",
        "\n",
        "arr = np.array([1, 2, 3, 4], ndmin=5)\n",
        "\n",
        "print(arr)\n",
        "print('number of dimensions :', arr.ndim)"
      ],
      "metadata": {
        "colab": {
          "base_uri": "https://localhost:8080/"
        },
        "id": "0dvQ-AfGuiUW",
        "outputId": "7cbb5e90-1b68-4f6e-c07c-d563d70c9462"
      },
      "execution_count": 6,
      "outputs": [
        {
          "output_type": "stream",
          "name": "stdout",
          "text": [
            "[[[[[1 2 3 4]]]]]\n",
            "number of dimensions : 5\n"
          ]
        }
      ]
    },
    {
      "cell_type": "markdown",
      "source": [
        "In this array the innermost dimension (5th dim) has 4 elements, the 4th dim has 1 element that is the vector, the 3rd dim has 1 element that is the matrix with the vector, the 2nd dim has 1 element that is 3D array and 1st dim has 1 element that is a 4D array."
      ],
      "metadata": {
        "id": "iBjr8ZOquw8L"
      }
    },
    {
      "cell_type": "markdown",
      "source": [
        "# Access Array Elements\n",
        "\n",
        "Array indexing is the same as accessing an array element.\n",
        "\n",
        "You can access an array element by referring to its index number.\n",
        "\n",
        "The indexes in NumPy arrays start with 0, meaning that the first element has index 0, and the second has index 1 etc."
      ],
      "metadata": {
        "id": "tnVPUgJTu54Z"
      }
    },
    {
      "cell_type": "code",
      "source": [
        "# Get the first element from the array\n",
        "\n",
        "import numpy as np\n",
        "\n",
        "arr = np.array([1, 2, 3, 4])\n",
        "\n",
        "print(arr[0])"
      ],
      "metadata": {
        "colab": {
          "base_uri": "https://localhost:8080/"
        },
        "id": "_bwHU1hIuy1s",
        "outputId": "47ba6f4c-6173-483b-fccd-f6bf0c5a494d"
      },
      "execution_count": 7,
      "outputs": [
        {
          "output_type": "stream",
          "name": "stdout",
          "text": [
            "1\n"
          ]
        }
      ]
    },
    {
      "cell_type": "markdown",
      "source": [
        "You can also do mathematical operations with the elements in the array."
      ],
      "metadata": {
        "id": "sip6OLMTwRw_"
      }
    },
    {
      "cell_type": "code",
      "source": [
        "import numpy as np\n",
        "arr = np.array([1, 2, 3, 4])\n",
        "\n",
        "# Add second and third elements from the array\n",
        "print(arr[1] + arr[2])\n",
        "\n",
        "# Multiply fourth element and third element\n",
        "# Numpy supports negative index!\n",
        "print(arr[-1] * arr[-2])"
      ],
      "metadata": {
        "colab": {
          "base_uri": "https://localhost:8080/"
        },
        "id": "AQ52CVXswRZs",
        "outputId": "732d1c0f-aab4-4949-d63c-abd1f08129f6"
      },
      "execution_count": 9,
      "outputs": [
        {
          "output_type": "stream",
          "name": "stdout",
          "text": [
            "5\n",
            "12\n"
          ]
        }
      ]
    },
    {
      "cell_type": "markdown",
      "source": [
        "For 2-D arrays, to access elements we can use comma separated integers representing the dimension and the index of the element.\n",
        "\n",
        "Think of 2-D arrays like a table with rows and columns, where the row represents the dimension and the index represents the column."
      ],
      "metadata": {
        "id": "Q9iz-GgdxG_f"
      }
    },
    {
      "cell_type": "code",
      "source": [
        "import numpy as np\n",
        "arr = np.array([[1,2,3,4,5], [6,7,8,9,10]])\n",
        "\n",
        "# Access the element on the first row, second column:\n",
        "print('2nd element on 1st row: ', arr[0, 1])\n",
        "\n",
        "# Access the element on the 2nd row, 5th column:\n",
        "print('5th element on 2nd row: ', arr[1, 4])"
      ],
      "metadata": {
        "colab": {
          "base_uri": "https://localhost:8080/"
        },
        "id": "RS7FdmF3xXdl",
        "outputId": "2dafa458-e89b-4b95-8831-915d32027b4f"
      },
      "execution_count": 10,
      "outputs": [
        {
          "output_type": "stream",
          "name": "stdout",
          "text": [
            "2nd element on 1st row:  2\n"
          ]
        }
      ]
    },
    {
      "cell_type": "markdown",
      "source": [
        "# Exercise 2\n",
        "\n",
        "For this exercise, numpy has been imported for you and the array `arr` has been created. Read the instructions in the comments in the code."
      ],
      "metadata": {
        "id": "2MQTGaRqx6bI"
      }
    },
    {
      "cell_type": "code",
      "source": [
        "import numpy as np\n",
        "\n",
        "arr = np.array([[1,2,3,4,5], [6,7,8,9,10]])\n",
        "\n",
        "# Find the sum of the first 3 columns in the first row.\n",
        "# Answer is 6.\n",
        "\n",
        "\n",
        "# Find the "
      ],
      "metadata": {
        "id": "rIp8LxdXyWad"
      },
      "execution_count": null,
      "outputs": []
    }
  ]
}